{
 "cells": [
  {
   "cell_type": "code",
   "execution_count": null,
   "metadata": {},
   "outputs": [],
   "source": [
    "import pandas as pd\n",
    "import numpy as np"
   ]
  },
  {
   "cell_type": "code",
   "execution_count": null,
   "metadata": {},
   "outputs": [],
   "source": [
    "#types of data in data frame:\n",
    "datatype=pd.DataFrame(df.dtypes, columns=['Type'])\n",
    "datatype"
   ]
  },
  {
   "cell_type": "code",
   "execution_count": null,
   "metadata": {},
   "outputs": [],
   "source": [
    "#Generate descriptive statistics:\n",
    "df.describe()"
   ]
  },
  {
   "cell_type": "code",
   "execution_count": null,
   "metadata": {},
   "outputs": [],
   "source": [
    "#number and percentage of missing values in each column and data type:\n",
    "def missing_data(df):\n",
    "    total = df.isnull().sum()\n",
    "    percent = (total/data.isnull().count()*100)\n",
    "    missing_values = pd.concat([total, percent], axis=1, keys=['Total', 'Percent'])\n",
    "    types = []\n",
    "    for col in df.columns:\n",
    "        dtype = str(df[col].dtype)\n",
    "        types.append(dtype)\n",
    "    missing_values['Types'] = types\n",
    "    return(np.transpose(missing_values))\n",
    "\n",
    "# Replace missing values with a number for particular column:\n",
    "df['column'].fillna(int, inplace=True)"
   ]
  },
  {
   "cell_type": "code",
   "execution_count": null,
   "metadata": {},
   "outputs": [],
   "source": [
    "#change column Date datatype from str to date time:\n",
    "df1.Date = pd.to_datetime(df1.Date)\n",
    "df2.Date = pd.to_datetime(df2.Date)\n",
    "\n",
    "#Slicing date column to year and week:\n",
    "#first Solution:\n",
    "df1['Week'] = df1.Date.dt.week \n",
    "df1['Month'] = df1.Date.dt.month\n",
    "df1['Year'] = df1.Date.dt.year\n",
    "\n",
    "#second solution:\n",
    "df1['Week']=df1['Date'].dt.week\n",
    "df1['Month']=df1['Date'].dt.month\n",
    "df1['Year']=df1['Date'].dt.year"
   ]
  },
  {
   "cell_type": "code",
   "execution_count": null,
   "metadata": {},
   "outputs": [],
   "source": [
    "#convert temprature from Fahrenheit to Celsius:\n",
    "#change Temprature column name to Temperature F:\n",
    "#first solution:\n",
    "df= df.rename(columns={\"Temperature\": \"Temperature F\"})\n",
    "\n",
    "temp_celcius=[]\n",
    "for temprature in df['Temperature']:\n",
    "    celcius = (temprature - 32) * 5.0/9.0\n",
    "    temp_celcius.append(celcius)\n",
    "df[\"Temprature C\"]=celcius\n",
    "    \n",
    "#second solution:\n",
    "def fahr_to_celsius(temp_fahr):\n",
    "    #Convert Fahrenheit to Celsius\n",
    "    \n",
    "    #Return Celsius conversion of input\n",
    "    temp_celsius = (temp_fahr - 32) * 5 / 9\n",
    "    return temp_celsius\n",
    "fahr_to_celsius(df[\"Temperature\"])\n",
    "df[\"temperature_C\"] = fahr_to_celsius(df[\"Temperature\"])    "
   ]
  },
  {
   "cell_type": "code",
   "execution_count": null,
   "metadata": {},
   "outputs": [],
   "source": []
  },
  {
   "cell_type": "code",
   "execution_count": null,
   "metadata": {},
   "outputs": [],
   "source": []
  }
 ],
 "metadata": {
  "kernelspec": {
   "display_name": "Python 3",
   "language": "python",
   "name": "python3"
  },
  "language_info": {
   "codemirror_mode": {
    "name": "ipython",
    "version": 3
   },
   "file_extension": ".py",
   "mimetype": "text/x-python",
   "name": "python",
   "nbconvert_exporter": "python",
   "pygments_lexer": "ipython3",
   "version": "3.8.3"
  }
 },
 "nbformat": 4,
 "nbformat_minor": 4
}
