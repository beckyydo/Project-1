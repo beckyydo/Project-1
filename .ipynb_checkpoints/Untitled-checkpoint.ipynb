{
 "cells": [
  {
   "cell_type": "code",
   "execution_count": null,
   "metadata": {},
   "outputs": [],
   "source": [
    "#types of data in data frame:\n",
    "datatype=pd.DataFrame(df.dtypes, columns=['Type'])\n",
    "datatype"
   ]
  },
  {
   "cell_type": "code",
   "execution_count": null,
   "metadata": {},
   "outputs": [],
   "source": [
    "# Total missing values for each column:\n",
    "missing_values=df.isnull().sum()\n",
    "\n",
    "# Replace missing values with a number for particular column:\n",
    "df['column'].fillna(int, inplace=True)"
   ]
  },
  {
   "cell_type": "code",
   "execution_count": null,
   "metadata": {},
   "outputs": [],
   "source": [
    "#change column Date datatype from str to date time:\n",
    "df1.Date = pd.to_datetime(df1.Date)\n",
    "df2.Date = pd.to_datetime(df2.Date)\n",
    "\n",
    "#Slicing date column to year and week:\n",
    "df1['Week'] = df1.Date.dt.week \n",
    "df1['Year'] = df1.Date.dt.year"
   ]
  },
  {
   "cell_type": "code",
   "execution_count": null,
   "metadata": {},
   "outputs": [],
   "source": []
  }
 ],
 "metadata": {
  "kernelspec": {
   "display_name": "Python 3",
   "language": "python",
   "name": "python3"
  },
  "language_info": {
   "codemirror_mode": {
    "name": "ipython",
    "version": 3
   },
   "file_extension": ".py",
   "mimetype": "text/x-python",
   "name": "python",
   "nbconvert_exporter": "python",
   "pygments_lexer": "ipython3",
   "version": "3.8.3"
  }
 },
 "nbformat": 4,
 "nbformat_minor": 4
}
