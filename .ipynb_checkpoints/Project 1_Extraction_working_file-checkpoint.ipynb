{
 "cells": [
  {
   "cell_type": "code",
   "execution_count": 1,
   "metadata": {},
   "outputs": [],
   "source": [
    "#Dependencies\n",
    "import pandas as pd\n",
    "import requests\n",
    "import json\n",
    "from api_config import API_key\n",
    "from api_config import year\n",
    "from api_config import country\n",
    "\n",
    "\n",
    "import matplotlib.pyplot as plt"
   ]
  },
  {
   "cell_type": "code",
   "execution_count": 2,
   "metadata": {},
   "outputs": [],
   "source": [
    "#load data_sources.JSON\n",
    "\n",
    "def loadJSON(self):\n",
    "    self.data_sources = json.load(open('data_config.json'))\n",
    "    self.api = self.data_sources['data_sources']['API']\n",
    "    self.csv_path = self.data_sources['data_sources']['CSV']"
   ]
  },
  {
   "cell_type": "code",
   "execution_count": 6,
   "metadata": {},
   "outputs": [],
   "source": [
    "#API\n",
    "\n",
    "def getAPI(self, Holiday):\n",
    "    base_url = self.api['Holiday']\n",
    "    response = requests.get(base_url)\n",
    "    return response.json()"
   ]
  },
  {
   "cell_type": "code",
   "execution_count": null,
   "metadata": {},
   "outputs": [],
   "source": [
    "#CSV \n",
    "\n",
    "def getCSV:\n",
    "    path = 'dataset' #check folder name/directory\n",
    "    \n",
    "    data_source1 = pd.read_csv(f{path})features.csv\n",
    "    data_source2 = pd.read_csv(f{path})stores.csv\n",
    "    data_source3 = pd.read_csv(f{path})train.csv\n",
    "    data_source4 = pd.read_csv(f{path})test.csv\n",
    "        "
   ]
  },
  {
   "cell_type": "code",
   "execution_count": null,
   "metadata": {},
   "outputs": [],
   "source": [
    "#dataframes\n"
   ]
  },
  {
   "cell_type": "code",
   "execution_count": null,
   "metadata": {},
   "outputs": [],
   "source": [
    "#merge datasets\n",
    "\n",
    "merge_df = pd.merge\n",
    "merge_df.head()"
   ]
  }
 ],
 "metadata": {
  "kernelspec": {
   "display_name": "Python 3",
   "language": "python",
   "name": "python3"
  },
  "language_info": {
   "codemirror_mode": {
    "name": "ipython",
    "version": 3
   },
   "file_extension": ".py",
   "mimetype": "text/x-python",
   "name": "python",
   "nbconvert_exporter": "python",
   "pygments_lexer": "ipython3",
   "version": "3.8.3"
  }
 },
 "nbformat": 4,
 "nbformat_minor": 4
}
