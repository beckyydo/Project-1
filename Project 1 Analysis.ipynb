{
 "cells": [
  {
   "cell_type": "code",
   "execution_count": null,
   "metadata": {},
   "outputs": [],
   "source": [
    "# (1) What effect does temperature have on weekly sales?\n",
    "# Hypothesis: Expecting extreme weather temperature to have lower sales\n",
    "\n",
    "import pandas as pd\n",
    "\n",
    "#Create bin and label in dataframe\n",
    "bins = [ min(df['Temperature']) + 2, -10, 0, 10, 20, 30, max(df['Temperature']) + 2 ]\n",
    "labels = [ \"<-10\", \"-10 to 0\", \"1 to 10\", \"11 to 20\",\"21 to 30\", \">30\"]\n",
    "\n",
    "df['Temp Category'] = pd.cut(df['Temperature'], bins, labels = labels)\n",
    "\n",
    "#Check Distribution of Bins\n",
    "df['Temp Category'].count()\n",
    "\n",
    "#Which temperature category has the highest total weekly sales\n",
    "df.groupby(\"Temp Category\")['Weekly Sales'].sum()\n",
    "\n",
    "#Which temperature category has the highest weekly sales on average\n",
    "df.groupby(\"Temp Category\")['Weekly Sales'].mean()\n",
    "\n",
    "#Linear Regression\n",
    "from scipy import stats\n",
    "\n",
    "(slope, intercept, rvalue, pvalue, stderr) = stats.linregress(df['Temperature'], df[\"Weekly Sales\"])\n",
    "\n",
    "print(slope, intercept) #what kind of relationship?\n",
    "\n",
    "x_values = df['Temperature']\n",
    "y_values = slope*x_values + intercept\n",
    "\n",
    "line_eq = 'y = ' + str(round(slope,2)) + \"x + \" + str(round(intercept,2))\n",
    "print(line_eq)"
   ]
  },
  {
   "cell_type": "code",
   "execution_count": null,
   "metadata": {},
   "outputs": [],
   "source": [
    "# (2) What effect does regional fuel prices have on weekly sales?\n",
    "# Hypothesis: Would expect higher fuel prices would cause a decrease in weekly sales, since less money to spend\n",
    "\n",
    "#Linear Regression\n",
    "from scipy import stats\n",
    "\n",
    "(slope, intercept, rvalue, pvalue, stderr) = stats.linregress(df['Fuel Price'], df[\"Weekly Sales\"])\n",
    "\n",
    "print(slope, intercept) #what kind of relationship?\n",
    "\n",
    "x_values = df['Fuel Price']\n",
    "y_values = slope*x_values + intercept\n",
    "\n",
    "line_eq = 'y = ' + str(round(slope,2)) + \"x + \" + str(round(intercept,2))\n",
    "print(line_eq)\n"
   ]
  },
  {
   "cell_type": "code",
   "execution_count": null,
   "metadata": {},
   "outputs": [],
   "source": [
    "# (3) What effect does the regional unemployment rate have on weekly sales?\n",
    "# Hypothesis: Would expect lower weekly sales with a higher unemployemnt rate in the area\n",
    "\n",
    "#Categorize unemployment\n",
    "bins = [3, 5, 10, 15]\n",
    "labels = [\"Low: <5\", \"Normal: 5-10\" , \"High: >10\"]\n",
    "\n",
    "df['Unemployment Category'] = pd.cut(df['Unemployment'], bins, labels = labels)\n",
    "\n",
    "#Check Distribution of Bins\n",
    "df['Unemployment Category'].count()\n",
    "\n",
    "#Does Unemployment rae affect spending in general\n",
    "df.groupby(\"Unemployment Category\")[\"Weekly Sales\"].mean()\n",
    "\n",
    "#Does Unemployment rate affect holiday spenidng\n",
    "df.groupby([\"Is Holiday\", \"Unemployment Category\"])[\"Weekly Sales\"].mean()\n",
    "\n",
    "#Linear Regression\n",
    "from scipy import stats\n",
    "\n",
    "(slope, intercept, rvalue, pvalue, stderr) = stats.linregress(df['Unemployment'], df[\"Weekly Sales\"])\n",
    "\n",
    "print(slope, intercept) #what kind of relationship?\n",
    "\n",
    "x_values = df['Unemployment']\n",
    "y_values = slope*x_values + intercept\n",
    "\n",
    "line_eq = 'y = ' + str(round(slope,2)) + \"x + \" + str(round(intercept,2))\n",
    "print(line_eq)\n",
    "\n"
   ]
  },
  {
   "cell_type": "code",
   "execution_count": null,
   "metadata": {},
   "outputs": [],
   "source": [
    "# (4) What effect does CPI have on weekly sales?\n",
    "# Hypothesis: Would expect lower weekly sales with a higher CPI as it'll cost more to maintain the same standard of living\n",
    "\n",
    "#Linear Regression\n",
    "from scipy import stats\n",
    "\n",
    "(slope, intercept, rvalue, pvalue, stderr) = stats.linregress(df['Unemployment'], df[\"Weekly Sales\"])\n",
    "\n",
    "print(slope, intercept) #what kind of relationship? negative or positive?\n",
    "\n",
    "x_values = df['Unemployment']\n",
    "y_values = slope*x_values + intercept\n",
    "\n",
    "line_eq = 'y = ' + str(round(slope,2)) + \"x + \" + str(round(intercept,2))\n",
    "print(line_eq)"
   ]
  },
  {
   "cell_type": "code",
   "execution_count": null,
   "metadata": {},
   "outputs": [],
   "source": [
    "# (5) What effect does special holiday weeks have on weekly sales? What holiday has the best sale? \n",
    "# Regardless of unemployment/CPI, will weekly sales during holidays still be about the same?\n",
    "\n",
    "#On Average Does Walmart mean more during holiday then regular sale weeks\n",
    "df.groupby(\"Is Holiday\")['Weekly Sales'].mean()\n",
    "\n",
    "#Of those holiday which ones generates the most sales on average for Walmart\n",
    "df.groupby(\"Holiday Name\")['Weekly Sales'].mean()\n"
   ]
  },
  {
   "cell_type": "code",
   "execution_count": null,
   "metadata": {},
   "outputs": [],
   "source": []
  }
 ],
 "metadata": {
  "kernelspec": {
   "display_name": "Python 3",
   "language": "python",
   "name": "python3"
  },
  "language_info": {
   "codemirror_mode": {
    "name": "ipython",
    "version": 3
   },
   "file_extension": ".py",
   "mimetype": "text/x-python",
   "name": "python",
   "nbconvert_exporter": "python",
   "pygments_lexer": "ipython3",
   "version": "3.8.3"
  }
 },
 "nbformat": 4,
 "nbformat_minor": 4
}
